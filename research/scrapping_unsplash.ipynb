{
 "cells": [
  {
   "cell_type": "code",
   "execution_count": 1,
   "metadata": {},
   "outputs": [],
   "source": [
    "import os; os.chdir('..')"
   ]
  },
  {
   "cell_type": "code",
   "execution_count": 2,
   "metadata": {},
   "outputs": [],
   "source": [
    "import csv"
   ]
  },
  {
   "cell_type": "code",
   "execution_count": 12,
   "metadata": {},
   "outputs": [],
   "source": [
    "urls= []\n",
    "with open(\"unsplash/data_doc.tsv\") as f:\n",
    "    \n",
    "    tsv_file = csv.reader(f, delimiter=\"\\t\")\n",
    "     \n",
    "    # printing data line by line\n",
    "    for line in tsv_file:\n",
    "        # print(line)\n",
    "        urls.append(line[2])"
   ]
  },
  {
   "cell_type": "code",
   "execution_count": 13,
   "metadata": {},
   "outputs": [
    {
     "data": {
      "text/plain": [
       "['photo_image_url',\n",
       " 'https://images.unsplash.com/photo-1439246854758-f686a415d9da',\n",
       " 'https://images.unsplash.com/photo-1440773310993-8660d1577dcd',\n",
       " 'https://images.unsplash.com/photo-1446834898093-264bbb1bdcc9',\n",
       " 'https://images.unsplash.com/photo-1445308124430-8357b98a6f71']"
      ]
     },
     "execution_count": 13,
     "metadata": {},
     "output_type": "execute_result"
    }
   ],
   "source": [
    "urls[:5]"
   ]
  },
  {
   "cell_type": "code",
   "execution_count": 14,
   "metadata": {},
   "outputs": [],
   "source": [
    "import json\n",
    "\n",
    "with open(\"unsplash/human_imgs.json\", \"w\") as f:\n",
    "    json.dump(urls[1:], f)"
   ]
  },
  {
   "cell_type": "code",
   "execution_count": null,
   "metadata": {},
   "outputs": [],
   "source": []
  }
 ],
 "metadata": {
  "kernelspec": {
   "display_name": "venv",
   "language": "python",
   "name": "python3"
  },
  "language_info": {
   "codemirror_mode": {
    "name": "ipython",
    "version": 3
   },
   "file_extension": ".py",
   "mimetype": "text/x-python",
   "name": "python",
   "nbconvert_exporter": "python",
   "pygments_lexer": "ipython3",
   "version": "3.10.12"
  }
 },
 "nbformat": 4,
 "nbformat_minor": 2
}
