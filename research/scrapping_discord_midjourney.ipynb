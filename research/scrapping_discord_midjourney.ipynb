{
 "cells": [
  {
   "cell_type": "code",
   "execution_count": 1,
   "metadata": {},
   "outputs": [
    {
     "data": {
      "text/plain": [
       "'/home/lucky/discord_scrapper'"
      ]
     },
     "execution_count": 1,
     "metadata": {},
     "output_type": "execute_result"
    }
   ],
   "source": [
    "import os; os.chdir('..');\n",
    "%pwd"
   ]
  },
  {
   "cell_type": "code",
   "execution_count": 2,
   "metadata": {},
   "outputs": [],
   "source": [
    "import requests\n",
    "import json\n",
    "import tqdm\n",
    "from keys import discord_authorization_token\n",
    "\n",
    "\n",
    "\n",
    "\n",
    "messages= []"
   ]
  },
  {
   "cell_type": "code",
   "execution_count": 10,
   "metadata": {},
   "outputs": [],
   "source": [
    "channel_id= \"966491171142631444\" # midjourney channel id\n",
    "channel_id= \"997267551082008616\" # midjourney channel id: newbies-63\n"
   ]
  },
  {
   "cell_type": "code",
   "execution_count": 11,
   "metadata": {},
   "outputs": [],
   "source": [
    "headers= {\"Authorization\": discord_authorization_token}"
   ]
  },
  {
   "cell_type": "code",
   "execution_count": 12,
   "metadata": {},
   "outputs": [],
   "source": [
    "response = requests.get(f\"https://discord.com/api/v9/channels/{channel_id}/messages?limit=100\", \n",
    "headers=headers).json()\n",
    "\n",
    "messages+=response\n"
   ]
  },
  {
   "cell_type": "code",
   "execution_count": 13,
   "metadata": {},
   "outputs": [
    {
     "data": {
      "text/plain": [
       "{'id': '1203953817457131573',\n",
       " 'type': 20,\n",
       " 'content': '**a realistic Large Black Giant Schnauzer wearing swimming googles, swimming fast underwater in the ocean, bubbles rising to the top of the ocean, luminous seashells and coral along the bottom of the ocean, colorful fishes. swimming around beside him** - <@1080007511043747892> (Waiting to start)',\n",
       " 'channel_id': '997267551082008616',\n",
       " 'author': {'id': '936929561302675456',\n",
       "  'username': 'Midjourney Bot',\n",
       "  'avatar': 'f6ce562a6b4979c4b1cbc5b436d3be76',\n",
       "  'discriminator': '9282',\n",
       "  'public_flags': 589824,\n",
       "  'premium_type': 0,\n",
       "  'flags': 589824,\n",
       "  'bot': True,\n",
       "  'banner': None,\n",
       "  'accent_color': None,\n",
       "  'global_name': None,\n",
       "  'avatar_decoration_data': None,\n",
       "  'banner_color': None},\n",
       " 'attachments': [],\n",
       " 'embeds': [],\n",
       " 'mentions': [{'id': '1080007511043747892',\n",
       "   'username': 'ldygadivea',\n",
       "   'avatar': 'e4f257b687af71958550b71274a86de3',\n",
       "   'discriminator': '0',\n",
       "   'public_flags': 0,\n",
       "   'premium_type': 0,\n",
       "   'flags': 0,\n",
       "   'banner': None,\n",
       "   'accent_color': None,\n",
       "   'global_name': 'LdyGadivea',\n",
       "   'avatar_decoration_data': None,\n",
       "   'banner_color': None}],\n",
       " 'mention_roles': [],\n",
       " 'pinned': False,\n",
       " 'mention_everyone': False,\n",
       " 'tts': False,\n",
       " 'timestamp': '2024-02-05T06:42:38.462000+00:00',\n",
       " 'edited_timestamp': None,\n",
       " 'flags': 0,\n",
       " 'components': [],\n",
       " 'application_id': '936929561302675456',\n",
       " 'interaction': {'id': '1203953812453204018',\n",
       "  'type': 2,\n",
       "  'name': 'imagine',\n",
       "  'user': {'id': '1080007511043747892',\n",
       "   'username': 'ldygadivea',\n",
       "   'avatar': 'e4f257b687af71958550b71274a86de3',\n",
       "   'discriminator': '0',\n",
       "   'public_flags': 0,\n",
       "   'premium_type': 0,\n",
       "   'flags': 0,\n",
       "   'banner': None,\n",
       "   'accent_color': None,\n",
       "   'global_name': 'LdyGadivea',\n",
       "   'avatar_decoration_data': None,\n",
       "   'banner_color': None}},\n",
       " 'webhook_id': '936929561302675456'}"
      ]
     },
     "execution_count": 13,
     "metadata": {},
     "output_type": "execute_result"
    }
   ],
   "source": [
    "response[0]"
   ]
  },
  {
   "cell_type": "code",
   "execution_count": 14,
   "metadata": {},
   "outputs": [],
   "source": [
    "\n",
    "\n",
    "while len(messages)<20000:\n",
    "    last_message_id= response[0]['id']\n",
    "    response= requests.get(f\"https://discord.com/api/v9/channels/{channel_id}/messages?before={last_message_id}\",headers=headers).json()\n",
    "\n",
    "    \n",
    "    \n",
    "    messages+=response"
   ]
  },
  {
   "cell_type": "code",
   "execution_count": 15,
   "metadata": {},
   "outputs": [
    {
     "data": {
      "text/plain": [
       "20000"
      ]
     },
     "execution_count": 15,
     "metadata": {},
     "output_type": "execute_result"
    }
   ],
   "source": [
    "len(messages)"
   ]
  },
  {
   "cell_type": "code",
   "execution_count": 9,
   "metadata": {},
   "outputs": [],
   "source": [
    "with open(\"research/discord.json\", \"w\") as f:\n",
    "    json.dump(messages, f)"
   ]
  },
  {
   "cell_type": "code",
   "execution_count": null,
   "metadata": {},
   "outputs": [],
   "source": []
  }
 ],
 "metadata": {
  "kernelspec": {
   "display_name": "venv",
   "language": "python",
   "name": "python3"
  },
  "language_info": {
   "codemirror_mode": {
    "name": "ipython",
    "version": 3
   },
   "file_extension": ".py",
   "mimetype": "text/x-python",
   "name": "python",
   "nbconvert_exporter": "python",
   "pygments_lexer": "ipython3",
   "version": "3.10.12"
  }
 },
 "nbformat": 4,
 "nbformat_minor": 2
}
